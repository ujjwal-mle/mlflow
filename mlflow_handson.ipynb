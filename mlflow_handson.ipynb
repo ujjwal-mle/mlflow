{
 "cells": [
  {
   "cell_type": "markdown",
   "id": "02335c6e-eb11-4bee-8e27-5acba2f07bb6",
   "metadata": {},
   "source": [
    "# MLFlow Hands On"
   ]
  },
  {
   "cell_type": "code",
   "execution_count": 15,
   "id": "cb144e4a-543f-42b4-9de6-4de019398f66",
   "metadata": {},
   "outputs": [],
   "source": [
    "import os\n",
    "import warnings\n",
    "import sys\n",
    "\n",
    "import pandas as pd\n",
    "import numpy as np\n",
    "\n",
    "from sklearn.metrics import (\n",
    "    root_mean_squared_error, \n",
    "    mean_absolute_error,\n",
    "    r2_score\n",
    ")\n",
    "from sklearn.model_selection import train_test_split\n",
    "from sklearn.linear_model import ElasticNet\n",
    "\n",
    "import mlflow\n",
    "import mlflow.sklearn"
   ]
  },
  {
   "cell_type": "markdown",
   "id": "c485ee59-06ba-4c38-a023-b77d732eac1f",
   "metadata": {},
   "source": [
    "# 0. The Data"
   ]
  },
  {
   "cell_type": "code",
   "execution_count": 11,
   "id": "537fca69-9bcd-4cf2-b79d-649447983783",
   "metadata": {},
   "outputs": [
    {
     "data": {
      "text/html": [
       "<div>\n",
       "<style scoped>\n",
       "    .dataframe tbody tr th:only-of-type {\n",
       "        vertical-align: middle;\n",
       "    }\n",
       "\n",
       "    .dataframe tbody tr th {\n",
       "        vertical-align: top;\n",
       "    }\n",
       "\n",
       "    .dataframe thead th {\n",
       "        text-align: right;\n",
       "    }\n",
       "</style>\n",
       "<table border=\"1\" class=\"dataframe\">\n",
       "  <thead>\n",
       "    <tr style=\"text-align: right;\">\n",
       "      <th></th>\n",
       "      <th>fixed acidity</th>\n",
       "      <th>volatile acidity</th>\n",
       "      <th>citric acid</th>\n",
       "      <th>residual sugar</th>\n",
       "      <th>chlorides</th>\n",
       "      <th>free sulfur dioxide</th>\n",
       "      <th>total sulfur dioxide</th>\n",
       "      <th>density</th>\n",
       "      <th>pH</th>\n",
       "      <th>sulphates</th>\n",
       "      <th>alcohol</th>\n",
       "      <th>quality</th>\n",
       "    </tr>\n",
       "  </thead>\n",
       "  <tbody>\n",
       "    <tr>\n",
       "      <th>4625</th>\n",
       "      <td>8.3</td>\n",
       "      <td>0.49</td>\n",
       "      <td>0.23</td>\n",
       "      <td>6.65</td>\n",
       "      <td>0.034</td>\n",
       "      <td>6.0</td>\n",
       "      <td>158.0</td>\n",
       "      <td>0.99344</td>\n",
       "      <td>3.05</td>\n",
       "      <td>0.48</td>\n",
       "      <td>11.2</td>\n",
       "      <td>5</td>\n",
       "    </tr>\n",
       "    <tr>\n",
       "      <th>3531</th>\n",
       "      <td>6.4</td>\n",
       "      <td>0.28</td>\n",
       "      <td>0.44</td>\n",
       "      <td>7.10</td>\n",
       "      <td>0.048</td>\n",
       "      <td>49.0</td>\n",
       "      <td>179.0</td>\n",
       "      <td>0.99528</td>\n",
       "      <td>3.15</td>\n",
       "      <td>0.48</td>\n",
       "      <td>9.2</td>\n",
       "      <td>5</td>\n",
       "    </tr>\n",
       "    <tr>\n",
       "      <th>2212</th>\n",
       "      <td>7.0</td>\n",
       "      <td>0.32</td>\n",
       "      <td>0.35</td>\n",
       "      <td>1.50</td>\n",
       "      <td>0.039</td>\n",
       "      <td>24.0</td>\n",
       "      <td>125.0</td>\n",
       "      <td>0.99180</td>\n",
       "      <td>3.17</td>\n",
       "      <td>0.64</td>\n",
       "      <td>12.2</td>\n",
       "      <td>6</td>\n",
       "    </tr>\n",
       "    <tr>\n",
       "      <th>670</th>\n",
       "      <td>7.8</td>\n",
       "      <td>0.42</td>\n",
       "      <td>0.26</td>\n",
       "      <td>9.20</td>\n",
       "      <td>0.058</td>\n",
       "      <td>34.0</td>\n",
       "      <td>199.0</td>\n",
       "      <td>0.99720</td>\n",
       "      <td>3.14</td>\n",
       "      <td>0.55</td>\n",
       "      <td>9.3</td>\n",
       "      <td>6</td>\n",
       "    </tr>\n",
       "    <tr>\n",
       "      <th>2864</th>\n",
       "      <td>5.3</td>\n",
       "      <td>0.16</td>\n",
       "      <td>0.39</td>\n",
       "      <td>1.00</td>\n",
       "      <td>0.028</td>\n",
       "      <td>40.0</td>\n",
       "      <td>101.0</td>\n",
       "      <td>0.99156</td>\n",
       "      <td>3.57</td>\n",
       "      <td>0.59</td>\n",
       "      <td>10.6</td>\n",
       "      <td>6</td>\n",
       "    </tr>\n",
       "    <tr>\n",
       "      <th>178</th>\n",
       "      <td>6.0</td>\n",
       "      <td>0.67</td>\n",
       "      <td>0.07</td>\n",
       "      <td>1.20</td>\n",
       "      <td>0.060</td>\n",
       "      <td>9.0</td>\n",
       "      <td>108.0</td>\n",
       "      <td>0.99310</td>\n",
       "      <td>3.11</td>\n",
       "      <td>0.35</td>\n",
       "      <td>8.7</td>\n",
       "      <td>4</td>\n",
       "    </tr>\n",
       "    <tr>\n",
       "      <th>73</th>\n",
       "      <td>8.6</td>\n",
       "      <td>0.23</td>\n",
       "      <td>0.46</td>\n",
       "      <td>1.00</td>\n",
       "      <td>0.054</td>\n",
       "      <td>9.0</td>\n",
       "      <td>72.0</td>\n",
       "      <td>0.99410</td>\n",
       "      <td>2.95</td>\n",
       "      <td>0.49</td>\n",
       "      <td>9.1</td>\n",
       "      <td>6</td>\n",
       "    </tr>\n",
       "    <tr>\n",
       "      <th>1828</th>\n",
       "      <td>7.3</td>\n",
       "      <td>0.17</td>\n",
       "      <td>0.23</td>\n",
       "      <td>6.30</td>\n",
       "      <td>0.051</td>\n",
       "      <td>35.0</td>\n",
       "      <td>240.0</td>\n",
       "      <td>0.99630</td>\n",
       "      <td>3.36</td>\n",
       "      <td>0.54</td>\n",
       "      <td>10.0</td>\n",
       "      <td>6</td>\n",
       "    </tr>\n",
       "    <tr>\n",
       "      <th>3403</th>\n",
       "      <td>8.8</td>\n",
       "      <td>0.27</td>\n",
       "      <td>0.25</td>\n",
       "      <td>5.00</td>\n",
       "      <td>0.024</td>\n",
       "      <td>52.0</td>\n",
       "      <td>99.0</td>\n",
       "      <td>0.99250</td>\n",
       "      <td>2.87</td>\n",
       "      <td>0.49</td>\n",
       "      <td>11.4</td>\n",
       "      <td>5</td>\n",
       "    </tr>\n",
       "    <tr>\n",
       "      <th>1341</th>\n",
       "      <td>7.6</td>\n",
       "      <td>0.54</td>\n",
       "      <td>0.23</td>\n",
       "      <td>2.00</td>\n",
       "      <td>0.029</td>\n",
       "      <td>13.0</td>\n",
       "      <td>151.0</td>\n",
       "      <td>0.99310</td>\n",
       "      <td>3.04</td>\n",
       "      <td>0.33</td>\n",
       "      <td>10.4</td>\n",
       "      <td>5</td>\n",
       "    </tr>\n",
       "  </tbody>\n",
       "</table>\n",
       "</div>"
      ],
      "text/plain": [
       "      fixed acidity  volatile acidity  citric acid  ...  sulphates  alcohol  quality\n",
       "4625            8.3              0.49         0.23  ...       0.48     11.2        5\n",
       "3531            6.4              0.28         0.44  ...       0.48      9.2        5\n",
       "2212            7.0              0.32         0.35  ...       0.64     12.2        6\n",
       "670             7.8              0.42         0.26  ...       0.55      9.3        6\n",
       "2864            5.3              0.16         0.39  ...       0.59     10.6        6\n",
       "178             6.0              0.67         0.07  ...       0.35      8.7        4\n",
       "73              8.6              0.23         0.46  ...       0.49      9.1        6\n",
       "1828            7.3              0.17         0.23  ...       0.54     10.0        6\n",
       "3403            8.8              0.27         0.25  ...       0.49     11.4        5\n",
       "1341            7.6              0.54         0.23  ...       0.33     10.4        5\n",
       "\n",
       "[10 rows x 12 columns]"
      ]
     },
     "execution_count": 11,
     "metadata": {},
     "output_type": "execute_result"
    }
   ],
   "source": [
    "data_path = \"data/wine-quality.csv\"\n",
    "data = pd.read_csv(data_path)\n",
    "data.sample(10)"
   ]
  },
  {
   "cell_type": "markdown",
   "id": "f060fa91-6ef5-40da-a4f9-93afd1d0fc06",
   "metadata": {},
   "source": [
    "# 1. Tracking Experiments"
   ]
  },
  {
   "cell_type": "markdown",
   "id": "850a3273",
   "metadata": {},
   "source": [
    "- Command to run the mlflow locally\n",
    "\n",
    "```\n",
    "mlflow server --backend-store-uri mlruns/ --default-artifact-root mlruns/ --host 0.0.0.0 --port 5000\n",
    "```"
   ]
  },
  {
   "cell_type": "code",
   "execution_count": 12,
   "id": "f983f8e6-9ad6-4d98-965e-fb55d2aa26bb",
   "metadata": {},
   "outputs": [],
   "source": [
    "remote_server_uri = \"http://0.0.0.0:5000\"\n",
    "mlflow.set_tracking_uri(remote_server_uri)"
   ]
  },
  {
   "cell_type": "code",
   "execution_count": 13,
   "id": "513c9aa6-4e67-4be5-8954-e05e18ac2849",
   "metadata": {},
   "outputs": [
    {
     "data": {
      "text/plain": [
       "'http://0.0.0.0:5000'"
      ]
     },
     "execution_count": 13,
     "metadata": {},
     "output_type": "execute_result"
    }
   ],
   "source": [
    "mlflow.get_tracking_uri()"
   ]
  },
  {
   "cell_type": "code",
   "execution_count": 14,
   "id": "537c5f30-00e8-4b78-81a2-432136ceeee2",
   "metadata": {},
   "outputs": [
    {
     "name": "stderr",
     "output_type": "stream",
     "text": [
      "2024/10/17 19:50:46 INFO mlflow.tracking.fluent: Experiment with name 'ElasticNet_Wine' does not exist. Creating a new experiment.\n"
     ]
    },
    {
     "data": {
      "text/plain": [
       "<Experiment: artifact_location='/home/ujtyagi/mle-training/mlflow/mlruns/178310088390928711', creation_time=1729174846927, experiment_id='178310088390928711', last_update_time=1729174846927, lifecycle_stage='active', name='ElasticNet_Wine', tags={}>"
      ]
     },
     "execution_count": 14,
     "metadata": {},
     "output_type": "execute_result"
    }
   ],
   "source": [
    "exp_name = \"ElasticNet_Wine\"\n",
    "mlflow.set_experiment(exp_name)"
   ]
  },
  {
   "cell_type": "markdown",
   "id": "fefc3db7-c47e-4863-90b8-3d35d6660e0f",
   "metadata": {},
   "source": [
    "#### What do we track?\n",
    "\n",
    "- Code Version\n",
    "- Start & End Time\n",
    "- Source\n",
    "- Parameters\n",
    "- Metrics\n",
    "- Artifacts"
   ]
  },
  {
   "cell_type": "code",
   "execution_count": 16,
   "id": "67432a66-45a1-4d2d-9c68-d7e541c24d50",
   "metadata": {},
   "outputs": [],
   "source": [
    "def eval_metrics(actual, pred):\n",
    "    rmse = root_mean_squared_error(actual, pred)\n",
    "    mae = mean_absolute_error(actual, pred)\n",
    "    r2 = r2_score(actual, pred)\n",
    "    return rmse, mae, r2"
   ]
  },
  {
   "cell_type": "code",
   "execution_count": 21,
   "id": "a8799736-5221-4de3-b05b-1490097ed200",
   "metadata": {},
   "outputs": [],
   "source": [
    "def load_data(data_path):\n",
    "    df = pd.read_csv(data_path)\n",
    "    train, test = train_test_split(data)\n",
    "    X_train = train.drop(columns='quality')\n",
    "    X_test = test.drop(columns='quality')\n",
    "    y_train = train[['quality']]\n",
    "    y_test = test[['quality']]\n",
    "    return X_train, y_train, X_test, y_test"
   ]
  },
  {
   "cell_type": "code",
   "execution_count": 22,
   "id": "98c1ec7d-4a09-4329-b181-053eb36a82a2",
   "metadata": {},
   "outputs": [],
   "source": [
    "def train(alpha=0.5, l1_ratio=0.5):\n",
    "    warnings.filterwarnings(\"ignore\")\n",
    "    np.random.seed(40)\n",
    "\n",
    "    # Read Data\n",
    "    data_path = \"data/wine-quality.csv\"\n",
    "    X_train, y_train, X_test, y_test = load_data(data_path)\n",
    "\n",
    "    # Useful for multiple runs\n",
    "    with mlflow.start_run():\n",
    "        # Train Model\n",
    "        lr = ElasticNet(\n",
    "            alpha=alpha,\n",
    "            l1_ratio=l1_ratio,\n",
    "            random_state=42\n",
    "        )\n",
    "        lr.fit(X_train, y_train)\n",
    "        \n",
    "        # Evaluate Metrics\n",
    "        predicted_qualities = lr.predict(X_test)\n",
    "        rmse, mae, r2 = eval_metrics(y_test, predicted_qualities)\n",
    "\n",
    "        print(f\"ElasticNet Model (alpha={alpha}, l1_ratio={l1_ratio}\")\n",
    "        print(f\"RMSE: {rmse} MAE: {mae} R2: {r2}\")\n",
    "\n",
    "        mlflow.log_param(key='alpha', value=alpha)\n",
    "        mlflow.log_param(key='l1_ratio', value=l1_ratio)\n",
    "\n",
    "        mlflow.log_metric(key='rmse', value=rmse)\n",
    "        mlflow.log_metrics({\"mae\":mae,\"r2\":r2})\n",
    "\n",
    "        mlflow.log_artifact(data_path)\n",
    "        print(f\"Save to {mlflow.get_artifact_uri()}\")\n",
    "        mlflow.sklearn.log_model(lr,\"model\")"
   ]
  },
  {
   "cell_type": "code",
   "execution_count": 23,
   "id": "60bcf66f-cc1c-44f3-b475-23098c9dd8bd",
   "metadata": {},
   "outputs": [
    {
     "name": "stdout",
     "output_type": "stream",
     "text": [
      "ElasticNet Model (alpha=0.5, l1_ratio=0.5\n",
      "RMSE: 0.82224284975954 MAE: 0.6278761410160693 R2: 0.12678721972772689\n",
      "Save to /home/ujtyagi/mle-training/mlflow/mlruns/178310088390928711/a897319064e4455489b2a6ee2cc726f1/artifacts\n"
     ]
    },
    {
     "name": "stderr",
     "output_type": "stream",
     "text": [
      "2024/10/17 20:16:15 WARNING mlflow.models.model: Model logged without a signature and input example. Please set `input_example` parameter when logging the model to auto infer the model signature.\n",
      "2024/10/17 20:16:15 INFO mlflow.tracking._tracking_service.client: 🏃 View run gaudy-mole-700 at: http://0.0.0.0:5000/#/experiments/178310088390928711/runs/a897319064e4455489b2a6ee2cc726f1.\n",
      "2024/10/17 20:16:15 INFO mlflow.tracking._tracking_service.client: 🧪 View experiment at: http://0.0.0.0:5000/#/experiments/178310088390928711.\n"
     ]
    }
   ],
   "source": [
    "train(0.5, 0.5)"
   ]
  },
  {
   "cell_type": "code",
   "execution_count": 24,
   "id": "574c3379-020d-4bab-9233-1edf42828d95",
   "metadata": {},
   "outputs": [
    {
     "name": "stdout",
     "output_type": "stream",
     "text": [
      "ElasticNet Model (alpha=0.2, l1_ratio=0.2\n",
      "RMSE: 0.7859129997062341 MAE: 0.6155290394093893 R2: 0.20224631822892103\n",
      "Save to /home/ujtyagi/mle-training/mlflow/mlruns/178310088390928711/d32e443c133845fe853965afb77cf867/artifacts\n"
     ]
    },
    {
     "name": "stderr",
     "output_type": "stream",
     "text": [
      "2024/10/17 20:16:36 WARNING mlflow.models.model: Model logged without a signature and input example. Please set `input_example` parameter when logging the model to auto infer the model signature.\n",
      "2024/10/17 20:16:36 INFO mlflow.tracking._tracking_service.client: 🏃 View run debonair-grouse-929 at: http://0.0.0.0:5000/#/experiments/178310088390928711/runs/d32e443c133845fe853965afb77cf867.\n",
      "2024/10/17 20:16:36 INFO mlflow.tracking._tracking_service.client: 🧪 View experiment at: http://0.0.0.0:5000/#/experiments/178310088390928711.\n"
     ]
    }
   ],
   "source": [
    "train(0.2, 0.2)"
   ]
  },
  {
   "cell_type": "code",
   "execution_count": 25,
   "id": "32816443-b52c-47e0-bb9e-7d0b17020972",
   "metadata": {},
   "outputs": [
    {
     "name": "stdout",
     "output_type": "stream",
     "text": [
      "ElasticNet Model (alpha=0.1, l1_ratio=0.1\n",
      "RMSE: 0.7792546522251949 MAE: 0.6112547988118587 R2: 0.2157063843066196\n",
      "Save to /home/ujtyagi/mle-training/mlflow/mlruns/178310088390928711/927eca3e89ca4f53814698c1eaea0a70/artifacts\n"
     ]
    },
    {
     "name": "stderr",
     "output_type": "stream",
     "text": [
      "2024/10/17 20:18:01 WARNING mlflow.models.model: Model logged without a signature and input example. Please set `input_example` parameter when logging the model to auto infer the model signature.\n",
      "2024/10/17 20:18:01 INFO mlflow.tracking._tracking_service.client: 🏃 View run overjoyed-swan-744 at: http://0.0.0.0:5000/#/experiments/178310088390928711/runs/927eca3e89ca4f53814698c1eaea0a70.\n",
      "2024/10/17 20:18:01 INFO mlflow.tracking._tracking_service.client: 🧪 View experiment at: http://0.0.0.0:5000/#/experiments/178310088390928711.\n"
     ]
    }
   ],
   "source": [
    "train(0.1, 0.1)"
   ]
  }
 ],
 "metadata": {
  "kernelspec": {
   "display_name": "mle-dev",
   "language": "python",
   "name": "python3"
  },
  "language_info": {
   "codemirror_mode": {
    "name": "ipython",
    "version": 3
   },
   "file_extension": ".py",
   "mimetype": "text/x-python",
   "name": "python",
   "nbconvert_exporter": "python",
   "pygments_lexer": "ipython3",
   "version": "3.12.6"
  }
 },
 "nbformat": 4,
 "nbformat_minor": 5
}
